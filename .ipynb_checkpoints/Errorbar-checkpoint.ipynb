{
 "cells": [
  {
   "cell_type": "code",
   "execution_count": 2,
   "metadata": {},
   "outputs": [
    {
     "data": {
      "image/png": "[encoded data removed]",
      "text/plain": [
       "<Figure size 432x288 with 1 Axes>"
      ]
     },
     "metadata": {
      "needs_background": "light"
     },
     "output_type": "display_data"
    }
   ],
   "source": [
    "import numpy as np\n",
    "from matplotlib import pyplot as plt\n",
    "from scipy.stats import t\n",
    " \n",
    "# 在5-15范围内生成15个随机数据点\n",
    "X = np.random.randint(5, 15, 15)\n",
    " \n",
    "# 样本大小\n",
    "n = X.size\n",
    " \n",
    "# 平均\n",
    "X_mean = np.mean(X)\n",
    " \n",
    "# standard deviation\n",
    "X_std = np.std(X)\n",
    " \n",
    "# standard error\n",
    "X_se = X_std / np.sqrt(n)\n",
    "# alternatively:\n",
    "#    from scipy import stats\n",
    "#    stats.sem(X)\n",
    " \n",
    "# 95% Confidence Interval\n",
    " \n",
    "dof = n - 1         # degrees of freedom\n",
    "alpha = 1.0 - 0.95\n",
    "conf_interval = t.ppf(1-alpha/2., dof) * X_std*np.sqrt(1.+1./n)\n",
    " \n",
    "fig = plt.gca()\n",
    "plt.errorbar(1, X_mean, yerr=X_std, fmt='-o')\n",
    "plt.errorbar(2, X_mean, yerr=X_se, fmt='-o')\n",
    "plt.errorbar(3, X_mean, yerr=conf_interval, fmt='-o')\n",
    " \n",
    "plt.xlim([0,4])\n",
    "plt.ylim(X_mean-conf_interval-2, X_mean+conf_interval+2)\n",
    " \n",
    "# axis formatting\n",
    "fig.axes.get_xaxis().set_visible(False)\n",
    "fig.spines[\"top\"].set_visible(False)\n",
    "fig.spines[\"right\"].set_visible(False)\n",
    "plt.tick_params(axis=\"both\", which=\"both\", bottom=\"off\", top=\"off\",\n",
    "                labelbottom=\"on\", left=\"on\", right=\"off\", labelleft=\"on\")\n",
    " \n",
    "plt.legend(['Standard Deviation', 'Standard Error', 'Confidence Interval'],\n",
    "           loc='upper left',\n",
    "           numpoints=1,\n",
    "           fancybox=True)\n",
    " \n",
    "plt.ylabel('random variable')\n",
    "plt.title('15 random values in the range 5-15')\n",
    " \n",
    "plt.show()"
   ]
  }
 ],
 "metadata": {
  "kernelspec": {
   "display_name": "Python 3",
   "language": "python",
   "name": "python3"
  },
  "language_info": {
   "codemirror_mode": {
    "name": "ipython",
    "version": 3
   },
   "file_extension": ".py",
   "mimetype": "text/x-python",
   "name": "python",
   "nbconvert_exporter": "python",
   "pygments_lexer": "ipython3",
   "version": "3.7.1"
  }
 },
 "nbformat": 4,
 "nbformat_minor": 2
}
